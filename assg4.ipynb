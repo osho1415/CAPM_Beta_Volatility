{
 "cells": [
  {
   "cell_type": "markdown",
   "metadata": {},
   "source": [
    "### CAPM Beta and Volatility Estimation \n",
    "Author : Osho Sharma \n",
    "\n",
    "\n",
    "This file includes code to find yearly CAPM beta, along with systematic and idiosyncratic risk using monthly stock return data from CRSP (1996-2023)"
   ]
  },
  {
   "cell_type": "code",
   "execution_count": 1,
   "metadata": {},
   "outputs": [],
   "source": [
    "#import libraries \n",
    "import pandas as pd \n",
    "import numpy as np \n",
    "import matplotlib.pyplot as plt"
   ]
  },
  {
   "cell_type": "code",
   "execution_count": 58,
   "metadata": {},
   "outputs": [
    {
     "name": "stderr",
     "output_type": "stream",
     "text": [
      "/var/folders/qq/4_7zbq5x7dx8hhvz65nzsm740000gn/T/ipykernel_5658/3716030037.py:2: DtypeWarning: Columns (3) have mixed types. Specify dtype option on import or set low_memory=False.\n",
      "  data = pd.read_csv('./MSF_1996_2023.csv')\n"
     ]
    }
   ],
   "source": [
    "# import data \n",
    "data = pd.read_csv('./MSF_1996_2023.csv')"
   ]
  },
  {
   "cell_type": "markdown",
   "metadata": {},
   "source": [
    "#### Data Cleaning and Wrangling"
   ]
  },
  {
   "cell_type": "code",
   "execution_count": 88,
   "metadata": {},
   "outputs": [
    {
     "name": "stderr",
     "output_type": "stream",
     "text": [
      "/var/folders/qq/4_7zbq5x7dx8hhvz65nzsm740000gn/T/ipykernel_5658/1684594872.py:32: DeprecationWarning: DataFrameGroupBy.apply operated on the grouping columns. This behavior is deprecated, and in a future version of pandas the grouping columns will be excluded from the operation. Either pass `include_groups=False` to exclude the groupings or explicitly select the grouping columns after groupby to silence this warning.\n",
      "  filtered_ind_data = data_filtered.groupby(['industry_name', 'year']).apply(\n"
     ]
    },
    {
     "data": {
      "text/plain": [
       "(31245, 7)"
      ]
     },
     "execution_count": 88,
     "metadata": {},
     "output_type": "execute_result"
    }
   ],
   "source": [
    "data_filtered = data.filter(items=['date', 'PERMCO', 'vwretd', 'RET', 'SICCD',])\n",
    "data_filtered.rename(columns = {'vwretd': 'market_return','RET': 'firm_return', 'TICKER' : 'ticker', 'SICCD' : 'industry_code', 'PERMCO': 'company_id'}, inplace = True)\n",
    "# ind_data = data_filtered.groupby('industry_code')\n",
    "\n",
    "# convert all industry code to numeric and handle errors.\n",
    "data_filtered['industr_code_numeric'] = pd.to_numeric(data_filtered['industry_code'], errors='coerce')  \n",
    "data_filtered = data_filtered.dropna(subset=['industr_code_numeric'])\n",
    "data_filtered['industry_code'] = data_filtered['industry_code'].astype(int)\n",
    "data_filtered.drop(columns=['industr_code_numeric'], inplace=True)\n",
    "\n",
    "# Industry ranges SIC code \n",
    "industry_ranges = { \n",
    "    'agriculture': (1,999), \n",
    "    'mining': (1000,1499),\n",
    "    'construction': (1500,1799),\n",
    "    'manufacturing': (2000,3999),\n",
    "    'transportation': (4000,4999),\n",
    "    'wholesale_trade': (5000,5199),\n",
    "    'retail_trade': (5200,5999),\n",
    "    'finance': (6000,6799),\n",
    "    'services': (7000,8999),\n",
    "    'public_admin': (9000,9999)\n",
    "}\n",
    "\n",
    "# add new column for industry_name using industry_ranges\n",
    "data_filtered['industry_name'] = data_filtered['industry_code'].apply(lambda x: next((k for k, v in industry_ranges.items() if v[0] <= x <= v[1]), None))\n",
    "data_filtered['year'] = data_filtered['date'].str[:4]\n",
    "\n",
    "\n",
    "\n",
    "# Filter ind_data to include monthly rows for 10 unique companies per industry_name for each year\n",
    "sampled_data = data_filtered.groupby(['industry_name', 'year']).apply(\n",
    "    lambda group: group[group['company_id'].isin(group.drop_duplicates('company_id').head(10)['company_id'])]\n",
    ").reset_index(drop=True)\n",
    "\n",
    "#filtered_ind_data = ind_data.apply(lambda x: x.groupby(x['date'].str[:4]).apply(lambda y: y.head(10))).reset_index(drop=True)\n",
    "\n",
    "#code to find total number of industries have less than 10 tickers\n",
    "# ticker_count = ind_data['company_id'].nunique()\n",
    "# less_than_10 = ticker_count[ticker_count < 10]\n",
    "# print(ind_data['company_id'].unique().count(), less_than_10.count())\n",
    "\n",
    "# dictionary of 10 random tickers for each industry\n",
    "# sampled_tickers = ind_data.apply(lambda x : x['company_id'].drop_duplicates().sample(n= min(10, len(x['company_id']))).to_list()).to_dict()\n",
    "\n",
    "# for data in sampled_tickers: \n",
    "#     print(data, sampled_tickers[data])\n",
    "#     print() \n",
    "\n",
    "# sampled_data = data_filtered[data_filtered['company_id'].isin([item for sublist in sampled_tickers.values() for item in sublist])]"
   ]
  },
  {
   "cell_type": "markdown",
   "metadata": {},
   "source": [
    "#### Linear Regression for Beta Estimation"
   ]
  },
  {
   "cell_type": "code",
   "execution_count": null,
   "metadata": {},
   "outputs": [],
   "source": []
  }
 ],
 "metadata": {
  "kernelspec": {
   "display_name": "base",
   "language": "python",
   "name": "python3"
  },
  "language_info": {
   "codemirror_mode": {
    "name": "ipython",
    "version": 3
   },
   "file_extension": ".py",
   "mimetype": "text/x-python",
   "name": "python",
   "nbconvert_exporter": "python",
   "pygments_lexer": "ipython3",
   "version": "3.12.4"
  }
 },
 "nbformat": 4,
 "nbformat_minor": 2
}
